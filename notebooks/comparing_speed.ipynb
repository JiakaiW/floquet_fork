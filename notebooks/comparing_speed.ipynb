{
 "cells": [
  {
   "cell_type": "code",
   "execution_count": null,
   "id": "dcc4d7d6",
   "metadata": {},
   "outputs": [],
   "source": [
    "! pip uninstall floquet\n",
    "! cd .. # go to the repo root directory\n",
    "! pip install -e ."
   ]
  },
  {
   "cell_type": "code",
   "execution_count": 1,
   "id": "68ebc2fd",
   "metadata": {
    "pycharm": {
     "is_executing": true
    }
   },
   "outputs": [],
   "source": [
    "import matplotlib.pyplot as plt\n",
    "import numpy as np\n",
    "import qutip as qt\n",
    "import scqubits as scq\n",
    "from cycler import cycler\n",
    "from IPython.display import clear_output\n",
    "import floquet as ft\n",
    "\n",
    "num_states = 20\n",
    "\n",
    "def get_H0_H1(qubit_instance: scq.GenericQubit) -> tuple[qt.Qobj, qt.Qobj]:\n",
    "    hilbert_space = scq.HilbertSpace([qubit_instance])\n",
    "    hilbert_space.generate_lookup()\n",
    "    evals = hilbert_space[\"evals\"][0][0:num_states]\n",
    "    H0 = 2.0 * np.pi * qt.Qobj(np.diag(evals - evals[0]))\n",
    "    H1 = hilbert_space.op_in_dressed_eigenbasis(qubit_instance.n_operator)\n",
    "    return H0, H1"
   ]
  },
  {
   "cell_type": "markdown",
   "id": "d76a173e",
   "metadata": {},
   "source": [
    "# Increase omega_d_values and chi_ac_values to see more dramatic speed difference"
   ]
  },
  {
   "cell_type": "code",
   "execution_count": 22,
   "id": "21e0d59b",
   "metadata": {},
   "outputs": [],
   "source": [
    "qubit_params = {\"EJ\": 22, \"EC\": 0.25, \"ng\": 0.25, \"ncut\": 41}\n",
    "tmon = scq.Transmon(**qubit_params, truncated_dim=num_states)\n",
    "state_indices = [0, 1]\n",
    "\n",
    "H0, H1 = get_H0_H1(tmon)\n",
    "\n",
    "omega_d_values = 2.0 * np.pi * np.linspace(3, 50, 200)\n",
    "chi_ac_values = 2.0 * np.pi * np.linspace(0.0, 0.1, 200)\n",
    "chi_to_amp = ft.ChiacToAmp(H0, H1, state_indices, omega_d_values)\n",
    "drive_amplitudes = chi_to_amp.amplitudes_for_omega_d(chi_ac_values)\n",
    "\n",
    "model = ft.Model(H0, H1, omega_d_values=omega_d_values, drive_amplitudes=drive_amplitudes)"
   ]
  },
  {
   "cell_type": "markdown",
   "id": "cb07ec6f",
   "metadata": {},
   "source": [
    "# Using the new function"
   ]
  },
  {
   "cell_type": "code",
   "execution_count": 23,
   "id": "ac209545",
   "metadata": {},
   "outputs": [
    {
     "name": "stdout",
     "output_type": "stream",
     "text": [
      "calculating for amp_range_idx=0\n",
      "_floquet_main_for_amp_range\n"
     ]
    },
    {
     "name": "stderr",
     "output_type": "stream",
     "text": [
      "Processing _run_floquet_and_calculate: 100%|██████████| 200/200 [00:35<00:00,  5.66it/s]\n"
     ]
    },
    {
     "name": "stdout",
     "output_type": "stream",
     "text": [
      "placing into\n",
      "overlap_with_bare_states\n",
      "displaced_states_fit ovlp_with_bare_states\n"
     ]
    },
    {
     "name": "stderr",
     "output_type": "stream",
     "text": [
      "Processing _fit_for_dim: 100%|██████████| 20/20 [00:09<00:00,  2.13it/s]\n",
      "Processing _fit_for_dim: 100%|██████████| 20/20 [00:09<00:00,  2.14it/s]\n"
     ]
    },
    {
     "name": "stdout",
     "output_type": "stream",
     "text": [
      "overlap_with_displaced_states new_coefficients\n"
     ]
    },
    {
     "name": "stderr",
     "output_type": "stream",
     "text": [
      "Processing _run_overlap_displaced_batch: 100%|██████████| 80/80 [00:04<00:00, 19.07it/s]\n"
     ]
    },
    {
     "name": "stdout",
     "output_type": "stream",
     "text": [
      "placing into\n",
      "calculating for amp_range_idx=1\n",
      "_floquet_main_for_amp_range\n"
     ]
    },
    {
     "name": "stderr",
     "output_type": "stream",
     "text": [
      "Processing _run_floquet_and_calculate: 100%|██████████| 200/200 [00:41<00:00,  4.77it/s]\n"
     ]
    },
    {
     "name": "stdout",
     "output_type": "stream",
     "text": [
      "placing into\n",
      "overlap_with_bare_states\n",
      "displaced_states_fit ovlp_with_bare_states\n"
     ]
    },
    {
     "name": "stderr",
     "output_type": "stream",
     "text": [
      "Processing _fit_for_dim: 100%|██████████| 20/20 [00:09<00:00,  2.08it/s]\n",
      "Processing _fit_for_dim: 100%|██████████| 20/20 [00:08<00:00,  2.31it/s]\n"
     ]
    },
    {
     "name": "stdout",
     "output_type": "stream",
     "text": [
      "overlap_with_displaced_states new_coefficients\n"
     ]
    },
    {
     "name": "stderr",
     "output_type": "stream",
     "text": [
      "Processing _run_overlap_displaced_batch: 100%|██████████| 80/80 [00:04<00:00, 19.67it/s]\n"
     ]
    },
    {
     "name": "stdout",
     "output_type": "stream",
     "text": [
      "placing into\n",
      "displaced_states_fit\n",
      "displaced_states_fit intermediate_displaced_state_overlaps\n"
     ]
    },
    {
     "name": "stderr",
     "output_type": "stream",
     "text": [
      "Processing _fit_for_state_idx: 100%|██████████| 2/2 [00:04<00:00,  2.08s/it]\n"
     ]
    },
    {
     "name": "stdout",
     "output_type": "stream",
     "text": [
      "overlap_with_displaced_states full_displaced_fit\n"
     ]
    },
    {
     "name": "stderr",
     "output_type": "stream",
     "text": [
      "Processing _run_overlap_displaced_batch: 100%|██████████| 80/80 [00:05<00:00, 15.78it/s]"
     ]
    },
    {
     "name": "stdout",
     "output_type": "stream",
     "text": [
      "finished in 2.216881998380025 minutes\n"
     ]
    },
    {
     "name": "stderr",
     "output_type": "stream",
     "text": [
      "\n"
     ]
    }
   ],
   "source": [
    "options = ft.Options(\n",
    "    fit_range_fraction=0.5,  # split the fit into segments based on this fraction\n",
    "    floquet_sampling_time_fraction=0.0,  # fraction of the period to compute the Floquet modes  # noqa E501\n",
    "    fit_cutoff=4,  # polynomial cutoff\n",
    "    overlap_cutoff=0.8,  # cutoff for excluding from the fit\n",
    "    nsteps=30_000,  # qutip integration parameter\n",
    "    num_cpus=20,  # number of cpus to use to compute Floquet modes in parallel\n",
    "    save_floquet_modes=True,  # whether or not to save floquet modes themselves\n",
    "    new_functions=True,\n",
    ")\n",
    "\n",
    "\n",
    "floquet_analysis = ft.FloquetAnalysis(\n",
    "    model, state_indices=state_indices, options=options\n",
    ")\n",
    "\n",
    "data_vals_new = floquet_analysis.run()"
   ]
  },
  {
   "cell_type": "markdown",
   "id": "2476cb64",
   "metadata": {},
   "source": [
    "# Old functions"
   ]
  },
  {
   "cell_type": "code",
   "execution_count": 24,
   "id": "c8495289",
   "metadata": {},
   "outputs": [
    {
     "name": "stdout",
     "output_type": "stream",
     "text": [
      "calculating for amp_range_idx=0\n",
      "_floquet_main_for_amp_range\n"
     ]
    },
    {
     "name": "stderr",
     "output_type": "stream",
     "text": [
      "Processing _run_floquet_and_calculate:   0%|          | 0/200 [00:00<?, ?it/s]"
     ]
    },
    {
     "name": "stderr",
     "output_type": "stream",
     "text": [
      "Processing _run_floquet_and_calculate: 100%|██████████| 200/200 [00:35<00:00,  5.61it/s]\n"
     ]
    },
    {
     "name": "stdout",
     "output_type": "stream",
     "text": [
      "placing into\n",
      "overlap_with_bare_states\n",
      "displaced_states_fit ovlp_with_bare_states\n"
     ]
    },
    {
     "name": "stderr",
     "output_type": "stream",
     "text": [
      "Processing _fit_for_state_idx: 100%|██████████| 2/2 [00:02<00:00,  1.11s/it]\n"
     ]
    },
    {
     "name": "stdout",
     "output_type": "stream",
     "text": [
      "overlap_with_displaced_states new_coefficients\n"
     ]
    },
    {
     "name": "stderr",
     "output_type": "stream",
     "text": [
      "Processing _run_overlap_displaced_batch: 100%|██████████| 80/80 [00:03<00:00, 20.50it/s]\n"
     ]
    },
    {
     "name": "stdout",
     "output_type": "stream",
     "text": [
      "placing into\n",
      "calculating for amp_range_idx=1\n",
      "_floquet_main_for_amp_range\n"
     ]
    },
    {
     "name": "stderr",
     "output_type": "stream",
     "text": [
      "Processing _run_floquet_and_calculate: 100%|██████████| 200/200 [00:47<00:00,  4.22it/s]\n"
     ]
    },
    {
     "name": "stdout",
     "output_type": "stream",
     "text": [
      "placing into\n",
      "overlap_with_bare_states\n",
      "displaced_states_fit ovlp_with_bare_states\n"
     ]
    },
    {
     "name": "stderr",
     "output_type": "stream",
     "text": [
      "Processing _fit_for_state_idx: 100%|██████████| 2/2 [00:01<00:00,  1.03it/s]\n"
     ]
    },
    {
     "name": "stdout",
     "output_type": "stream",
     "text": [
      "overlap_with_displaced_states new_coefficients\n"
     ]
    },
    {
     "name": "stderr",
     "output_type": "stream",
     "text": [
      "Processing _run_overlap_displaced_batch: 100%|██████████| 80/80 [00:04<00:00, 19.46it/s]\n"
     ]
    },
    {
     "name": "stdout",
     "output_type": "stream",
     "text": [
      "placing into\n",
      "displaced_states_fit\n",
      "displaced_states_fit intermediate_displaced_state_overlaps\n"
     ]
    },
    {
     "name": "stderr",
     "output_type": "stream",
     "text": [
      "Processing _fit_for_state_idx: 100%|██████████| 2/2 [00:04<00:00,  2.02s/it]\n"
     ]
    },
    {
     "name": "stdout",
     "output_type": "stream",
     "text": [
      "overlap_with_displaced_states full_displaced_fit\n"
     ]
    },
    {
     "name": "stderr",
     "output_type": "stream",
     "text": [
      "Processing _run_overlap_displaced:  17%|█▋        | 6997/40000 [03:37<17:05, 32.20it/s]\n"
     ]
    },
    {
     "ename": "KeyboardInterrupt",
     "evalue": "",
     "output_type": "error",
     "traceback": [
      "\u001b[0;31m---------------------------------------------------------------------------\u001b[0m",
      "\u001b[0;31mIndexError\u001b[0m                                Traceback (most recent call last)",
      "File \u001b[0;32m~/miniconda3/envs/floquet/lib/python3.10/site-packages/multiprocess/pool.py:856\u001b[0m, in \u001b[0;36mIMapIterator.next\u001b[0;34m(self, timeout)\u001b[0m\n\u001b[1;32m    855\u001b[0m \u001b[38;5;28;01mtry\u001b[39;00m:\n\u001b[0;32m--> 856\u001b[0m     item \u001b[38;5;241m=\u001b[39m \u001b[38;5;28;43mself\u001b[39;49m\u001b[38;5;241;43m.\u001b[39;49m\u001b[43m_items\u001b[49m\u001b[38;5;241;43m.\u001b[39;49m\u001b[43mpopleft\u001b[49m\u001b[43m(\u001b[49m\u001b[43m)\u001b[49m\n\u001b[1;32m    857\u001b[0m \u001b[38;5;28;01mexcept\u001b[39;00m \u001b[38;5;167;01mIndexError\u001b[39;00m:\n",
      "\u001b[0;31mIndexError\u001b[0m: pop from an empty deque",
      "\nDuring handling of the above exception, another exception occurred:\n",
      "\u001b[0;31mKeyboardInterrupt\u001b[0m                         Traceback (most recent call last)",
      "Cell \u001b[0;32mIn[24], line 9\u001b[0m\n\u001b[1;32m      3\u001b[0m options_old\u001b[38;5;241m.\u001b[39mnew_functions \u001b[38;5;241m=\u001b[39m \u001b[38;5;28;01mFalse\u001b[39;00m\n\u001b[1;32m      5\u001b[0m floquet_analysis \u001b[38;5;241m=\u001b[39m ft\u001b[38;5;241m.\u001b[39mFloquetAnalysis(\n\u001b[1;32m      6\u001b[0m     model, state_indices\u001b[38;5;241m=\u001b[39mstate_indices, options\u001b[38;5;241m=\u001b[39moptions_old\n\u001b[1;32m      7\u001b[0m )\n\u001b[0;32m----> 9\u001b[0m data_vals_old \u001b[38;5;241m=\u001b[39m \u001b[43mfloquet_analysis\u001b[49m\u001b[38;5;241;43m.\u001b[39;49m\u001b[43mrun\u001b[49m\u001b[43m(\u001b[49m\u001b[43m)\u001b[49m\n",
      "File \u001b[0;32m~/Github/floquet_fork/floquet/floquet.py:343\u001b[0m, in \u001b[0;36mFloquetAnalysis.run\u001b[0;34m(self, filepath)\u001b[0m\n\u001b[1;32m    339\u001b[0m     true_overlaps \u001b[38;5;241m=\u001b[39m displaced_state\u001b[38;5;241m.\u001b[39moverlap_with_displaced_states_new(\n\u001b[1;32m    340\u001b[0m         amp_idxs, full_displaced_fit, floquet_modes\n\u001b[1;32m    341\u001b[0m     )\n\u001b[1;32m    342\u001b[0m \u001b[38;5;28;01melse\u001b[39;00m:\n\u001b[0;32m--> 343\u001b[0m     true_overlaps \u001b[38;5;241m=\u001b[39m displaced_state\u001b[38;5;241m.\u001b[39moverlap_with_displaced_states(\n\u001b[1;32m    344\u001b[0m         amp_idxs, full_displaced_fit, floquet_modes\n\u001b[1;32m    345\u001b[0m     )\n\u001b[1;32m    346\u001b[0m data_dict \u001b[38;5;241m=\u001b[39m {\n\u001b[1;32m    347\u001b[0m     \u001b[38;5;124m\"\u001b[39m\u001b[38;5;124mbare_state_overlaps\u001b[39m\u001b[38;5;124m\"\u001b[39m: bare_state_overlaps,\n\u001b[1;32m    348\u001b[0m     \u001b[38;5;124m\"\u001b[39m\u001b[38;5;124mfit_data\u001b[39m\u001b[38;5;124m\"\u001b[39m: full_displaced_fit,\n\u001b[0;32m   (...)\u001b[0m\n\u001b[1;32m    352\u001b[0m     \u001b[38;5;124m\"\u001b[39m\u001b[38;5;124mavg_excitation\u001b[39m\u001b[38;5;124m\"\u001b[39m: avg_excitation,\n\u001b[1;32m    353\u001b[0m }\n\u001b[1;32m    354\u001b[0m \u001b[38;5;28;01mif\u001b[39;00m \u001b[38;5;28mself\u001b[39m\u001b[38;5;241m.\u001b[39moptions\u001b[38;5;241m.\u001b[39msave_floquet_modes:\n",
      "File \u001b[0;32m~/Github/floquet_fork/floquet/displaced_state.py:121\u001b[0m, in \u001b[0;36mDisplacedState.overlap_with_displaced_states\u001b[0;34m(self, amp_idxs, coefficients, floquet_modes)\u001b[0m\n\u001b[1;32m    118\u001b[0m omega_d_amp_params \u001b[38;5;241m=\u001b[39m \u001b[38;5;28mlist\u001b[39m(\u001b[38;5;28mself\u001b[39m\u001b[38;5;241m.\u001b[39mmodel\u001b[38;5;241m.\u001b[39momega_d_amp_params(amp_idxs))\n\u001b[1;32m    119\u001b[0m amp_range_vals \u001b[38;5;241m=\u001b[39m \u001b[38;5;28mself\u001b[39m\u001b[38;5;241m.\u001b[39mmodel\u001b[38;5;241m.\u001b[39mdrive_amplitudes[amp_idxs[\u001b[38;5;241m0\u001b[39m] : amp_idxs[\u001b[38;5;241m1\u001b[39m]]\n\u001b[1;32m    120\u001b[0m result \u001b[38;5;241m=\u001b[39m \u001b[38;5;28mlist\u001b[39m(\n\u001b[0;32m--> 121\u001b[0m     \u001b[43mparallel_map\u001b[49m\u001b[43m(\u001b[49m\n\u001b[1;32m    122\u001b[0m \u001b[43m        \u001b[49m\u001b[38;5;28;43mself\u001b[39;49m\u001b[38;5;241;43m.\u001b[39;49m\u001b[43moptions\u001b[49m\u001b[38;5;241;43m.\u001b[39;49m\u001b[43mnum_cpus\u001b[49m\u001b[43m,\u001b[49m\u001b[43m \u001b[49m\u001b[43m_run_overlap_displaced\u001b[49m\u001b[43m,\u001b[49m\u001b[43m \u001b[49m\u001b[43momega_d_amp_params\u001b[49m\n\u001b[1;32m    123\u001b[0m \u001b[43m    \u001b[49m\u001b[43m)\u001b[49m\n\u001b[1;32m    124\u001b[0m )\n\u001b[1;32m    125\u001b[0m \u001b[38;5;28;01mreturn\u001b[39;00m np\u001b[38;5;241m.\u001b[39marray(result)\u001b[38;5;241m.\u001b[39mreshape(\n\u001b[1;32m    126\u001b[0m     (\n\u001b[1;32m    127\u001b[0m         \u001b[38;5;28mlen\u001b[39m(\u001b[38;5;28mself\u001b[39m\u001b[38;5;241m.\u001b[39mmodel\u001b[38;5;241m.\u001b[39momega_d_values),\n\u001b[0;32m   (...)\u001b[0m\n\u001b[1;32m    130\u001b[0m     )\n\u001b[1;32m    131\u001b[0m )\n",
      "File \u001b[0;32m~/Github/floquet_fork/floquet/utils/parallel.py:13\u001b[0m, in \u001b[0;36mparallel_map\u001b[0;34m(num_cpus, func, parameters)\u001b[0m\n\u001b[1;32m     10\u001b[0m     \u001b[38;5;28;01mreturn\u001b[39;00m \u001b[38;5;28mlist\u001b[39m(tqdm(\u001b[38;5;28mmap\u001b[39m(func, param_list), total\u001b[38;5;241m=\u001b[39m\u001b[38;5;28mlen\u001b[39m(param_list), desc\u001b[38;5;241m=\u001b[39m\u001b[38;5;124mf\u001b[39m\u001b[38;5;124m\"\u001b[39m\u001b[38;5;124mProcessing \u001b[39m\u001b[38;5;132;01m{\u001b[39;00mfunc\u001b[38;5;241m.\u001b[39m\u001b[38;5;18m__name__\u001b[39m\u001b[38;5;132;01m}\u001b[39;00m\u001b[38;5;124m\"\u001b[39m))\n\u001b[1;32m     12\u001b[0m \u001b[38;5;28;01mwith\u001b[39;00m pathos\u001b[38;5;241m.\u001b[39mpools\u001b[38;5;241m.\u001b[39mProcessPool(nodes\u001b[38;5;241m=\u001b[39mnum_cpus) \u001b[38;5;28;01mas\u001b[39;00m pool:\n\u001b[0;32m---> 13\u001b[0m     \u001b[38;5;28;01mreturn\u001b[39;00m \u001b[38;5;28;43mlist\u001b[39;49m\u001b[43m(\u001b[49m\u001b[43mtqdm\u001b[49m\u001b[43m(\u001b[49m\u001b[43mpool\u001b[49m\u001b[38;5;241;43m.\u001b[39;49m\u001b[43mimap\u001b[49m\u001b[43m(\u001b[49m\u001b[43mfunc\u001b[49m\u001b[43m,\u001b[49m\u001b[43m \u001b[49m\u001b[43mparam_list\u001b[49m\u001b[43m)\u001b[49m\u001b[43m,\u001b[49m\u001b[43m \u001b[49m\u001b[43mtotal\u001b[49m\u001b[38;5;241;43m=\u001b[39;49m\u001b[38;5;28;43mlen\u001b[39;49m\u001b[43m(\u001b[49m\u001b[43mparam_list\u001b[49m\u001b[43m)\u001b[49m\u001b[43m,\u001b[49m\u001b[43m \u001b[49m\u001b[43mdesc\u001b[49m\u001b[38;5;241;43m=\u001b[39;49m\u001b[38;5;124;43mf\u001b[39;49m\u001b[38;5;124;43m\"\u001b[39;49m\u001b[38;5;124;43mProcessing \u001b[39;49m\u001b[38;5;132;43;01m{\u001b[39;49;00m\u001b[43mfunc\u001b[49m\u001b[38;5;241;43m.\u001b[39;49m\u001b[38;5;18;43m__name__\u001b[39;49m\u001b[38;5;132;43;01m}\u001b[39;49;00m\u001b[38;5;124;43m\"\u001b[39;49m\u001b[43m)\u001b[49m\u001b[43m)\u001b[49m\n",
      "File \u001b[0;32m~/miniconda3/envs/floquet/lib/python3.10/site-packages/tqdm/std.py:1181\u001b[0m, in \u001b[0;36mtqdm.__iter__\u001b[0;34m(self)\u001b[0m\n\u001b[1;32m   1178\u001b[0m time \u001b[38;5;241m=\u001b[39m \u001b[38;5;28mself\u001b[39m\u001b[38;5;241m.\u001b[39m_time\n\u001b[1;32m   1180\u001b[0m \u001b[38;5;28;01mtry\u001b[39;00m:\n\u001b[0;32m-> 1181\u001b[0m     \u001b[38;5;28;01mfor\u001b[39;00m obj \u001b[38;5;129;01min\u001b[39;00m iterable:\n\u001b[1;32m   1182\u001b[0m         \u001b[38;5;28;01myield\u001b[39;00m obj\n\u001b[1;32m   1183\u001b[0m         \u001b[38;5;66;03m# Update and possibly print the progressbar.\u001b[39;00m\n\u001b[1;32m   1184\u001b[0m         \u001b[38;5;66;03m# Note: does not call self.update(1) for speed optimisation.\u001b[39;00m\n",
      "File \u001b[0;32m~/miniconda3/envs/floquet/lib/python3.10/site-packages/multiprocess/pool.py:861\u001b[0m, in \u001b[0;36mIMapIterator.next\u001b[0;34m(self, timeout)\u001b[0m\n\u001b[1;32m    859\u001b[0m     \u001b[38;5;28mself\u001b[39m\u001b[38;5;241m.\u001b[39m_pool \u001b[38;5;241m=\u001b[39m \u001b[38;5;28;01mNone\u001b[39;00m\n\u001b[1;32m    860\u001b[0m     \u001b[38;5;28;01mraise\u001b[39;00m \u001b[38;5;167;01mStopIteration\u001b[39;00m \u001b[38;5;28;01mfrom\u001b[39;00m\u001b[38;5;250m \u001b[39m\u001b[38;5;28;01mNone\u001b[39;00m\n\u001b[0;32m--> 861\u001b[0m \u001b[38;5;28;43mself\u001b[39;49m\u001b[38;5;241;43m.\u001b[39;49m\u001b[43m_cond\u001b[49m\u001b[38;5;241;43m.\u001b[39;49m\u001b[43mwait\u001b[49m\u001b[43m(\u001b[49m\u001b[43mtimeout\u001b[49m\u001b[43m)\u001b[49m\n\u001b[1;32m    862\u001b[0m \u001b[38;5;28;01mtry\u001b[39;00m:\n\u001b[1;32m    863\u001b[0m     item \u001b[38;5;241m=\u001b[39m \u001b[38;5;28mself\u001b[39m\u001b[38;5;241m.\u001b[39m_items\u001b[38;5;241m.\u001b[39mpopleft()\n",
      "File \u001b[0;32m~/miniconda3/envs/floquet/lib/python3.10/threading.py:320\u001b[0m, in \u001b[0;36mCondition.wait\u001b[0;34m(self, timeout)\u001b[0m\n\u001b[1;32m    318\u001b[0m \u001b[38;5;28;01mtry\u001b[39;00m:    \u001b[38;5;66;03m# restore state no matter what (e.g., KeyboardInterrupt)\u001b[39;00m\n\u001b[1;32m    319\u001b[0m     \u001b[38;5;28;01mif\u001b[39;00m timeout \u001b[38;5;129;01mis\u001b[39;00m \u001b[38;5;28;01mNone\u001b[39;00m:\n\u001b[0;32m--> 320\u001b[0m         \u001b[43mwaiter\u001b[49m\u001b[38;5;241;43m.\u001b[39;49m\u001b[43macquire\u001b[49m\u001b[43m(\u001b[49m\u001b[43m)\u001b[49m\n\u001b[1;32m    321\u001b[0m         gotit \u001b[38;5;241m=\u001b[39m \u001b[38;5;28;01mTrue\u001b[39;00m\n\u001b[1;32m    322\u001b[0m     \u001b[38;5;28;01melse\u001b[39;00m:\n",
      "\u001b[0;31mKeyboardInterrupt\u001b[0m: "
     ]
    }
   ],
   "source": [
    "from copy import deepcopy\n",
    "options_old = deepcopy(options)\n",
    "options_old.new_functions = False\n",
    "\n",
    "floquet_analysis = ft.FloquetAnalysis(\n",
    "    model, state_indices=state_indices, options=options_old\n",
    ")\n",
    "\n",
    "data_vals_old = floquet_analysis.run()"
   ]
  },
  {
   "cell_type": "markdown",
   "id": "dcf4c60f",
   "metadata": {},
   "source": [
    "# Check correctness"
   ]
  },
  {
   "cell_type": "code",
   "execution_count": 21,
   "id": "c42c7784",
   "metadata": {},
   "outputs": [],
   "source": [
    "for key in data_vals_new.keys():\n",
    "    assert np.allclose(data_vals_new[key], data_vals_old[key]), f'{key} is not close'"
   ]
  },
  {
   "cell_type": "code",
   "execution_count": null,
   "id": "4f067b59",
   "metadata": {},
   "outputs": [],
   "source": []
  }
 ],
 "metadata": {
  "kernelspec": {
   "display_name": "floquet",
   "language": "python",
   "name": "python3"
  },
  "language_info": {
   "codemirror_mode": {
    "name": "ipython",
    "version": 3
   },
   "file_extension": ".py",
   "mimetype": "text/x-python",
   "name": "python",
   "nbconvert_exporter": "python",
   "pygments_lexer": "ipython3",
   "version": "3.10.0"
  }
 },
 "nbformat": 4,
 "nbformat_minor": 5
}
